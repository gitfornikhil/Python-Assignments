{
 "cells": [
  {
   "cell_type": "markdown",
   "id": "2c1841ca",
   "metadata": {},
   "source": [
    "# Assignment - 3 Answers."
   ]
  },
  {
   "cell_type": "markdown",
   "id": "d24293ab",
   "metadata": {},
   "source": [
    "### 1. Why are functions advantages to have in your programs?"
   ]
  },
  {
   "cell_type": "markdown",
   "id": "b4833291",
   "metadata": {},
   "source": [
    "Functions reduces the need for rewriting the code again. Function makes any programs shorter, it also makes the program easy to read, and more easier to update.\n"
   ]
  },
  {
   "cell_type": "markdown",
   "id": "00f16c20",
   "metadata": {},
   "source": [
    "### 2. When does the code in a function run: when it&#39;s specified or when it&#39;s called?"
   ]
  },
  {
   "cell_type": "markdown",
   "id": "ca803d87",
   "metadata": {},
   "source": [
    "The code in a function runs when its called, not when the function is specified."
   ]
  },
  {
   "cell_type": "markdown",
   "id": "40ff46c6",
   "metadata": {},
   "source": [
    "### 3. What statement creates a function?"
   ]
  },
  {
   "cell_type": "markdown",
   "id": "10f86609",
   "metadata": {},
   "source": [
    "The def statement creates a function ending with a colon."
   ]
  },
  {
   "cell_type": "markdown",
   "id": "f714a28d",
   "metadata": {},
   "source": [
    "### 4. What is the difference between a function and a function call?"
   ]
  },
  {
   "cell_type": "markdown",
   "id": "a875419b",
   "metadata": {},
   "source": [
    "A function consists of the def statement and the code inside def brackets.\n",
    "whereas, function call executes the program into the function and also, the function call evaluates the return value."
   ]
  },
  {
   "cell_type": "markdown",
   "id": "59c875fb",
   "metadata": {},
   "source": [
    "### 5. How many global scopes are there in a Python program? How many local scopes?"
   ]
  },
  {
   "cell_type": "markdown",
   "id": "36ade875",
   "metadata": {},
   "source": [
    "There is one global scope, and local scopes are created whenever the function is called."
   ]
  },
  {
   "cell_type": "markdown",
   "id": "2ba3435c",
   "metadata": {},
   "source": [
    "### 6. What happens to variables in a local scope when the function call returns?"
   ]
  },
  {
   "cell_type": "markdown",
   "id": "ab005c43",
   "metadata": {},
   "source": [
    "When a function returns, the local scope is lost, and the variables given to it are forgotten."
   ]
  },
  {
   "cell_type": "markdown",
   "id": "7715cfaa",
   "metadata": {},
   "source": [
    "### 7. What is the concept of a return value? Is it possible to have a return value in an expression?"
   ]
  },
  {
   "cell_type": "markdown",
   "id": "2841ec6b",
   "metadata": {},
   "source": [
    "A return value is the value that a function call evaluates to. Like any value, a return value can be used as part of an expression."
   ]
  },
  {
   "cell_type": "markdown",
   "id": "498126b0",
   "metadata": {},
   "source": [
    "### 8. If a function does not have a return statement, what is the return value of a call to that function?"
   ]
  },
  {
   "cell_type": "markdown",
   "id": "359b78cc",
   "metadata": {},
   "source": [
    "If there is no return statement for a function, then its return value would be Nothing."
   ]
  },
  {
   "cell_type": "markdown",
   "id": "b1673269",
   "metadata": {},
   "source": [
    "### 9. How do you make a function variable refer to the global variable?"
   ]
  },
  {
   "cell_type": "markdown",
   "id": "e5cab1bb",
   "metadata": {},
   "source": [
    "A global statement will make a variable in a function to refer to the global variable."
   ]
  },
  {
   "cell_type": "markdown",
   "id": "28383df0",
   "metadata": {},
   "source": [
    "### 10. What is the data type of None?"
   ]
  },
  {
   "cell_type": "markdown",
   "id": "885c5a48",
   "metadata": {},
   "source": [
    "Nonetype"
   ]
  },
  {
   "cell_type": "markdown",
   "id": "00a33765",
   "metadata": {},
   "source": [
    "### 11. What does the sentence import areallyourpetsnamederic do?"
   ]
  },
  {
   "cell_type": "markdown",
   "id": "1216a577",
   "metadata": {},
   "source": [
    "That import statement imports a module named areallyourpetsnamederic."
   ]
  },
  {
   "cell_type": "markdown",
   "id": "1e1a6f31",
   "metadata": {},
   "source": [
    "### 12. If you had a bacon() feature in a spam module, what would you call it after importing spam?"
   ]
  },
  {
   "cell_type": "markdown",
   "id": "c1049248",
   "metadata": {},
   "source": [
    "This function can be called with spam.bacon()."
   ]
  },
  {
   "cell_type": "markdown",
   "id": "5df866f5",
   "metadata": {},
   "source": [
    "### 13. What can you do to save a programme from crashing if it encounters an error?"
   ]
  },
  {
   "cell_type": "markdown",
   "id": "355932b6",
   "metadata": {},
   "source": [
    "Place the line of code that might cause an error in a try clause."
   ]
  },
  {
   "cell_type": "markdown",
   "id": "146e1458",
   "metadata": {},
   "source": [
    "### 14. What is the purpose of the try clause? What is the purpose of the except clause?"
   ]
  },
  {
   "cell_type": "markdown",
   "id": "c56cb502",
   "metadata": {},
   "source": [
    "The code that could potentially cause an error goes in the try clause.\n",
    "The code that executes if an error happens goes in the except clause"
   ]
  }
 ],
 "metadata": {
  "kernelspec": {
   "display_name": "Python 3 (ipykernel)",
   "language": "python",
   "name": "python3"
  },
  "language_info": {
   "codemirror_mode": {
    "name": "ipython",
    "version": 3
   },
   "file_extension": ".py",
   "mimetype": "text/x-python",
   "name": "python",
   "nbconvert_exporter": "python",
   "pygments_lexer": "ipython3",
   "version": "3.9.13"
  }
 },
 "nbformat": 4,
 "nbformat_minor": 5
}
